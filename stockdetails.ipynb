{
 "cells": [
  {
   "cell_type": "code",
   "execution_count": 4,
   "id": "08328fc9",
   "metadata": {},
   "outputs": [
    {
     "name": "stdout",
     "output_type": "stream",
     "text": [
      "Quote price= 2,618.00\n"
     ]
    }
   ],
   "source": [
    "from bs4 import BeautifulSoup\n",
    "import requests\n",
    " \n",
    "url_of_page = 'https://www.moneycontrol.com/india/stockpricequote/refineries/relianceindustries/RI'\n",
    " \n",
    "def computequoteprice():\n",
    "    url_requests = requests.get(url_of_page)\n",
    "    soup_ocreate = BeautifulSoup(url_requests.text, 'lxml')\n",
    "    quote_price = soup_ocreate.find('div', class_='inprice1 nsecp').text\n",
    "    return quote_price\n",
    " \n",
    "print (\"Quote price= \" +str(computequoteprice()))\n"
   ]
  },
  {
   "cell_type": "code",
   "execution_count": 14,
   "id": "91153b87",
   "metadata": {},
   "outputs": [
    {
     "name": "stdout",
     "output_type": "stream",
     "text": [
      "[['BUY', 'SELL'],\n",
      " ['QTY', 'PRICE', 'PRICE', 'QTY'],\n",
      " ['65', '2623.10', '2623.35', '10'],\n",
      " ['20', '2622.80', '2624.00', '111'],\n",
      " ['2000', '2621.80', '2624.05', '25'],\n",
      " ['50', '2620.45', '2624.25', '10'],\n",
      " ['200', '2620.35', '2624.55', '50'],\n",
      " ['4419', 'Total', 'Total', '5598']]\n",
      "\n",
      "\n",
      "PANDAS DATAFRAME\n",
      "\n",
      "      0        1        2     3\n",
      "0   BUY     SELL     None  None\n",
      "1   QTY    PRICE    PRICE   QTY\n",
      "2    65  2623.10  2623.35    10\n",
      "3    20  2622.80  2624.00   111\n",
      "4  2000  2621.80  2624.05    25\n",
      "5    50  2620.45  2624.25    10\n",
      "6   200  2620.35  2624.55    50\n",
      "7  4419    Total    Total  5598\n"
     ]
    }
   ],
   "source": [
    "# Library for opening url and creating\n",
    "# requests\n",
    "import urllib.request\n",
    "\n",
    "# pretty-print python data structures\n",
    "from pprint import pprint\n",
    "\n",
    "# for parsing all the tables present\n",
    "# on the website\n",
    "from html_table_parser.parser import HTMLTableParser\n",
    "\n",
    "# for converting the parsed data in a\n",
    "# pandas dataframe\n",
    "import pandas as pd\n",
    "\n",
    "\n",
    "# Opens a website and read its\n",
    "# binary contents (HTTP Response Body)\n",
    "def url_get_contents(url):\n",
    "\n",
    "\t# Opens a website and read its\n",
    "\t# binary contents (HTTP Response Body)\n",
    "\n",
    "\t#making request to the website\n",
    "\treq = urllib.request.Request(url=url)\n",
    "\tf = urllib.request.urlopen(req)\n",
    "\n",
    "\t#reading contents of the website\n",
    "\treturn f.read()\n",
    "\n",
    "# defining the html contents of a URL.\n",
    "xhtml = url_get_contents('https://www.moneycontrol.com/india\\\n",
    "/stockpricequote/refineries/relianceindustries/RI').decode('utf-8')\n",
    "\n",
    "# Defining the HTMLTableParser object\n",
    "p = HTMLTableParser()\n",
    "\n",
    "# feeding the html contents in the\n",
    "# HTMLTableParser object\n",
    "p.feed(xhtml)\n",
    "\n",
    "# Now finally obtaining the data of\n",
    "# the table required\n",
    "pprint(p.tables[1])\n",
    "\n",
    "# converting the parsed data to\n",
    "# dataframe\n",
    "print(\"\\n\\nPANDAS DATAFRAME\\n\")\n",
    "print(pd.DataFrame(p.tables[1]))\n"
   ]
  },
  {
   "cell_type": "code",
   "execution_count": 1,
   "id": "983609b2",
   "metadata": {},
   "outputs": [
    {
     "name": "stdout",
     "output_type": "stream",
     "text": [
      "1. Buy Asian Paints, target price Rs 3740:  ICICI Direct \n",
      "2. Buy Garden Reach Shipbuilders & Engineers, target price Rs 348:  ICICI Direct \n",
      "3. Buy Shivalik Bimetal Controls, target price Rs 715:  HDFC Securities \n",
      "4. Buy Steel Strips Wheels, target price Rs 1025:  HDFC Securities \n",
      "5. Buy PCBL, target price Rs 165:  HDFC Securities \n",
      "6. Buy Praj Industries, target price Rs 477:  Axis Securities \n",
      "7. Buy APL Apollo Tubes, target price Rs 1100:  Axis Securities \n",
      "8. Buy Bata India, target price Rs 2200:  Axis Securities \n",
      "9. Buy Ashok Leyland, target price Rs 175:  Axis Securities \n",
      "10. Buy Varun Beverages, target price Rs 1150:  Axis Securities \n",
      "11. Buy Federal Bank, target price Rs 130:  Axis Securities \n",
      "12. Buy InterGlobe Aviation, target price Rs 2281:  Geojit \n",
      "13. Reduce Thermax, target price Rs 2178:  Geojit\n",
      "14. Buy Dalmia Bharat, target price Rs 1850:  Axis Securities \n",
      "15. Buy Bajaj Finance, target price Rs 8250:  Axis Securities \n",
      "16. Buy State Bank of India, target price Rs 665:  Axis Securities \n"
     ]
    }
   ],
   "source": [
    "from bs4 import BeautifulSoup as BS\n",
    "import requests as req\n",
    "  \n",
    "url = \"https://economictimes.indiatimes.com/markets/stocks/recos?from=mdr\"\n",
    "webpage = req.get(url)\n",
    "trav = BS(webpage.content, \"html.parser\")\n",
    "M = 1\n",
    "for link in trav.find_all('a'):\n",
    "    # PASTE THE CLASS TYPE THAT WE GET\n",
    "    # FROM THE ABOVE CODE IN THIS AND\n",
    "    # SET THE LIMIT GRATER THAN 35\n",
    "    if(str(type(link.string)) == \"<class 'bs4.element.NavigableString'>\" and (link.string.find('target')!=-1)):\n",
    "  \n",
    "        print(str(M)+\".\", link.string)\n",
    "        M += 1\n",
    "\n"
   ]
  },
  {
   "cell_type": "code",
   "execution_count": 36,
   "id": "f029dce7",
   "metadata": {},
   "outputs": [
    {
     "name": "stdout",
     "output_type": "stream",
     "text": [
      "1. Buy/Sell\n",
      "2. My Reports\n",
      "3. Invest\n",
      "4. Resources\n",
      "5. Markets\n",
      "6. Pricing\n",
      "7. Support\n"
     ]
    }
   ],
   "source": [
    "from bs4 import BeautifulSoup as BS\n",
    "import requests as req\n",
    "  \n",
    "url = \"https://www.edelweiss.in/oyo/equity/top-market-and-stock-recommendations/equity\"\n",
    "webpage = req.get(url)\n",
    "trav = BS(webpage.content, \"html.parser\")\n",
    "M = 1\n",
    "for link in trav.find_all('label'):\n",
    "    # PASTE THE CLASS TYPE THAT WE GET\n",
    "    # FROM THE ABOVE CODE IN THIS AND\n",
    "    # SET THE LIMIT GRATER THAN 35\n",
    "#     if(str(type(link.string)) == \"<class 'bs4.element.NavigableString'>\"):\n",
    "  \n",
    "        print(str(M)+\".\", link.string)\n",
    "        M += 1\n",
    "\n"
   ]
  },
  {
   "cell_type": "code",
   "execution_count": null,
   "id": "a521a0ea",
   "metadata": {},
   "outputs": [],
   "source": []
  }
 ],
 "metadata": {
  "kernelspec": {
   "display_name": "Python 3 (ipykernel)",
   "language": "python",
   "name": "python3"
  },
  "language_info": {
   "codemirror_mode": {
    "name": "ipython",
    "version": 3
   },
   "file_extension": ".py",
   "mimetype": "text/x-python",
   "name": "python",
   "nbconvert_exporter": "python",
   "pygments_lexer": "ipython3",
   "version": "3.9.12"
  }
 },
 "nbformat": 4,
 "nbformat_minor": 5
}
